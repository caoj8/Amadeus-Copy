{
 "cells": [
  {
   "cell_type": "code",
   "execution_count": 1,
   "metadata": {
    "ExecuteTime": {
     "end_time": "2018-02-17T22:18:26.060787Z",
     "start_time": "2018-02-17T22:18:24.926498Z"
    },
    "collapsed": true
   },
   "outputs": [],
   "source": [
    "#!/usr/bin/env python3\n",
    "\n",
    "# FMA: A Dataset For Music Analysis\n",
    "# Michaël Defferrard, Kirell Benzi, Pierre Vandergheynst, Xavier Bresson, EPFL LTS2.\n",
    "\n",
    "# All features are extracted using [librosa](https://github.com/librosa/librosa).\n",
    "# Alternatives:\n",
    "# * [Essentia](http://essentia.upf.edu) (C++ with Python bindings)\n",
    "# * [MARSYAS](https://github.com/marsyas/marsyas) (C++ with Python bindings)\n",
    "# * [RP extract](http://www.ifs.tuwien.ac.at/mir/downloads.html) (Matlab, Java, Python)\n",
    "# * [jMIR jAudio](http://jmir.sourceforge.net) (Java)\n",
    "# * [MIRtoolbox](https://www.jyu.fi/hum/laitokset/musiikki/en/research/coe/materials/mirtoolbox) (Matlab)\n",
    "\n",
    "import os\n",
    "import multiprocessing\n",
    "import warnings\n",
    "\n",
    "from tqdm import tqdm\n",
    "import numpy as np\n",
    "from scipy import stats\n",
    "import pandas as pd\n",
    "import librosa\n",
    "\n",
    "import utils\n",
    "import matplotlib.pyplot as plt\n",
    "import librosa.display"
   ]
  },
  {
   "cell_type": "code",
   "execution_count": 32,
   "metadata": {
    "ExecuteTime": {
     "end_time": "2018-02-17T22:10:05.416853Z",
     "start_time": "2018-02-17T22:10:05.413861Z"
    },
    "collapsed": false
   },
   "outputs": [
    {
     "data": {
      "text/plain": [
       "'/home/ravi/anaconda3/envs/amadeus/lib/python3.6/site-packages/librosa/util/example_data/Kevin_MacLeod_-_Vibe_Ace.ogg'"
      ]
     },
     "execution_count": 32,
     "metadata": {},
     "output_type": "execute_result"
    }
   ],
   "source": [
    "librosa.util.example_audio_file()"
   ]
  },
  {
   "cell_type": "code",
   "execution_count": 20,
   "metadata": {
    "ExecuteTime": {
     "end_time": "2018-02-17T22:25:42.589453Z",
     "start_time": "2018-02-17T22:25:42.388949Z"
    },
    "collapsed": false
   },
   "outputs": [
    {
     "data": {
      "text/plain": [
       "(128, 2585)"
      ]
     },
     "execution_count": 20,
     "metadata": {},
     "output_type": "execute_result"
    }
   ],
   "source": [
    "filename=\"/media/ravi/507412DD7412C59E/fma_small/000/000005.mp3\"\n",
    "title = \"000005\"\n",
    "import time\n",
    "\n",
    "y=utils.FfmpegLoader(sampling_rate=44100)._load(filename,\"/home/ravi/anaconda3/envs/amadeus/bin/\")\n",
    "\n",
    "sr=44100\n",
    "st = time.time()\n",
    "y.shape\n",
    "S = librosa.feature.melspectrogram(y=y, sr=sr, n_mels=128,  fmax=8000)\n",
    "S.shape\n",
    "\n",
    "#print(time.time()-st)"
   ]
  },
  {
   "cell_type": "code",
   "execution_count": 22,
   "metadata": {
    "ExecuteTime": {
     "end_time": "2018-02-17T22:25:47.915521Z",
     "start_time": "2018-02-17T22:25:47.909901Z"
    },
    "collapsed": false
   },
   "outputs": [
    {
     "data": {
      "text/plain": [
       "(1323110,)"
      ]
     },
     "execution_count": 22,
     "metadata": {},
     "output_type": "execute_result"
    }
   ],
   "source": [
    "\n"
   ]
  },
  {
   "cell_type": "code",
   "execution_count": 23,
   "metadata": {
    "ExecuteTime": {
     "end_time": "2018-02-17T22:26:41.947375Z",
     "start_time": "2018-02-17T22:26:41.939324Z"
    },
    "collapsed": true
   },
   "outputs": [],
   "source": [
    "def loadaudio(fname,window=128):\n",
    "    sr = 44100\n",
    "    y=utils.FfmpegLoader(sampling_rate=sr)._load(filename,\"/home/ravi/anaconda3/envs/amadeus/bin/\")\n",
    "    \n",
    "    y_last = y.shape[0]-y.shape[0]%10\n",
    "    y=y[:y_last]\n",
    "    leng = y.shape[0]/10\n",
    "    \n",
    "    \n",
    "    breaky = np.split(y,10)\n",
    "    return breaky\n",
    "\n",
    "\n"
   ]
  },
  {
   "cell_type": "code",
   "execution_count": 24,
   "metadata": {
    "ExecuteTime": {
     "end_time": "2018-02-17T22:26:55.929456Z",
     "start_time": "2018-02-17T22:26:55.836696Z"
    },
    "collapsed": true
   },
   "outputs": [],
   "source": [
    "vr = loadaudio(filename)"
   ]
  },
  {
   "cell_type": "code",
   "execution_count": 27,
   "metadata": {
    "ExecuteTime": {
     "end_time": "2018-02-17T22:27:10.390397Z",
     "start_time": "2018-02-17T22:27:10.387046Z"
    },
    "collapsed": true
   },
   "outputs": [],
   "source": [
    "y= vr[-1]"
   ]
  },
  {
   "cell_type": "code",
   "execution_count": 28,
   "metadata": {
    "ExecuteTime": {
     "end_time": "2018-02-17T22:27:10.749131Z",
     "start_time": "2018-02-17T22:27:10.743239Z"
    },
    "collapsed": false
   },
   "outputs": [
    {
     "data": {
      "text/plain": [
       "20.171875"
      ]
     },
     "execution_count": 28,
     "metadata": {},
     "output_type": "execute_result"
    }
   ],
   "source": [
    "2582/128"
   ]
  },
  {
   "cell_type": "code",
   "execution_count": 29,
   "metadata": {
    "ExecuteTime": {
     "end_time": "2018-02-17T22:27:11.082131Z",
     "start_time": "2018-02-17T22:27:11.079475Z"
    },
    "collapsed": false
   },
   "outputs": [
    {
     "name": "stdout",
     "output_type": "stream",
     "text": [
      "Duration: 3.00s, 132311 samples\n"
     ]
    }
   ],
   "source": [
    "print('Duration: {:.2f}s, {} samples'.format(y.shape[-1] / sr, y.size))"
   ]
  },
  {
   "cell_type": "code",
   "execution_count": 3,
   "metadata": {
    "ExecuteTime": {
     "end_time": "2018-02-17T22:18:29.912139Z",
     "start_time": "2018-02-17T22:18:29.905638Z"
    },
    "collapsed": false
   },
   "outputs": [],
   "source": [
    "count = int(S.shape[1]/S.shape[0])\n",
    "start = (S.shape[1]-count*S.shape[0])\n",
    "start = int((start + (1 if start%2!=0 else 0))/2)\n",
    "\n"
   ]
  },
  {
   "cell_type": "code",
   "execution_count": null,
   "metadata": {
    "ExecuteTime": {
     "end_time": "2018-02-17T21:56:16.054917Z",
     "start_time": "2018-02-17T21:56:16.051864Z"
    },
    "collapsed": false
   },
   "outputs": [],
   "source": []
  },
  {
   "cell_type": "code",
   "execution_count": 52,
   "metadata": {
    "ExecuteTime": {
     "end_time": "2018-02-17T22:35:09.287788Z",
     "start_time": "2018-02-17T22:35:09.273322Z"
    },
    "collapsed": false
   },
   "outputs": [],
   "source": [
    "#%matplotlib inline\n",
    "def save_spec(S,fname):\n",
    "    plt.ioff()\n",
    "    \n",
    "    librosa.display.specshow(librosa.power_to_db(S,ref=np.max),y_axis='off', \\\n",
    "                             fmax=8000,x_axis='off',sr=sr)\n",
    "    \n",
    "    #plt.show()\n",
    "    fig = plt.gcf()\n",
    "    \n",
    "    fig.set_size_inches(1,1)\n",
    "    fig.frameon=False\n",
    "\n",
    "    fig.savefig(fname, bbox_inches='tight',dpi=128,pad_inches=0)\n",
    "\n",
    "\n",
    "    \n",
    "\n",
    "    \n",
    "    "
   ]
  },
  {
   "cell_type": "code",
   "execution_count": 53,
   "metadata": {
    "ExecuteTime": {
     "end_time": "2018-02-17T22:35:20.774575Z",
     "start_time": "2018-02-17T22:35:10.240756Z"
    },
    "collapsed": false
   },
   "outputs": [
    {
     "name": "stderr",
     "output_type": "stream",
     "text": [
      "/home/ravi/anaconda3/envs/amadeus/lib/python3.6/site-packages/librosa/display.py:656: FutureWarning: Conversion of the second argument of issubdtype from `complex` to `np.complexfloating` is deprecated. In future, it will be treated as `np.complex128 == np.dtype(complex).type`.\n",
      "  if np.issubdtype(data.dtype, np.complex):\n"
     ]
    }
   ],
   "source": [
    "filename=\"/media/ravi/507412DD7412C59E/fma_small/000/000005.mp3\"\n",
    "def song_to_spec(infile,outfile)\n",
    "    sr=44100\n",
    "    break_y=loadaudio(infile)\n",
    "    for i in range(len(break_y)):\n",
    "        S = librosa.feature.melspectrogram(y=break_y[i], sr=sr, n_mels=128,  fmax=8000)\n",
    "        save_spec(S,fname=outfile+\"_{}\".format(i))\n",
    "\n"
   ]
  },
  {
   "cell_type": "code",
   "execution_count": null,
   "metadata": {
    "collapsed": true
   },
   "outputs": [],
   "source": []
  }
 ],
 "metadata": {
  "anaconda-cloud": {},
  "kernelspec": {
   "display_name": "Python [amadeus]",
   "language": "python",
   "name": "Python [amadeus]"
  },
  "language_info": {
   "codemirror_mode": {
    "name": "ipython",
    "version": 3
   },
   "file_extension": ".py",
   "mimetype": "text/x-python",
   "name": "python",
   "nbconvert_exporter": "python",
   "pygments_lexer": "ipython3",
   "version": "3.6.4"
  },
  "varInspector": {
   "cols": {
    "lenName": 16,
    "lenType": 16,
    "lenVar": 40
   },
   "kernels_config": {
    "python": {
     "delete_cmd_postfix": "",
     "delete_cmd_prefix": "del ",
     "library": "var_list.py",
     "varRefreshCmd": "print(var_dic_list())"
    },
    "r": {
     "delete_cmd_postfix": ") ",
     "delete_cmd_prefix": "rm(",
     "library": "var_list.r",
     "varRefreshCmd": "cat(var_dic_list()) "
    }
   },
   "types_to_exclude": [
    "module",
    "function",
    "builtin_function_or_method",
    "instance",
    "_Feature"
   ],
   "window_display": false
  }
 },
 "nbformat": 4,
 "nbformat_minor": 0
}
