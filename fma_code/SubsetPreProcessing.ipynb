{
 "cells": [
  {
   "cell_type": "code",
   "execution_count": 43,
   "metadata": {
    "ExecuteTime": {
     "end_time": "2018-02-10T23:26:46.943531Z",
     "start_time": "2018-02-10T23:26:46.932105Z"
    },
    "collapsed": true
   },
   "outputs": [],
   "source": [
    "import numpy as np\n",
    "import IPython.display as ipd\n",
    "import librosa\n",
    "import librosa.display\n",
    "import matplotlib.pyplot as plt\n",
    "import utils\n",
    "\n",
    "%matplotlib inline"
   ]
  },
  {
   "cell_type": "code",
   "execution_count": 3,
   "metadata": {
    "ExecuteTime": {
     "end_time": "2018-02-10T22:59:15.063631Z",
     "start_time": "2018-02-10T22:58:53.145706Z"
    },
    "collapsed": false
   },
   "outputs": [
    {
     "name": "stdout",
     "output_type": "stream",
     "text": [
      "tracks.csv\n"
     ]
    },
    {
     "name": "stderr",
     "output_type": "stream",
     "text": [
      "/home/ravi/Amadeus/fma_code/utils.py:216: FutureWarning: specifying 'categories' or 'ordered' in .astype() is deprecated; pass a CategoricalDtype instead\n",
      "  'category', categories=SUBSETS, ordered=True)\n"
     ]
    },
    {
     "name": "stdout",
     "output_type": "stream",
     "text": [
      "genres.csv\n",
      "features.csv\n",
      "echonest.csv\n"
     ]
    }
   ],
   "source": [
    "AUDIO_DIR = '/media/ravi/507412DD7412C59E/fma_small/'\n",
    "\n",
    "# Load metadata and features.\n",
    "tracks = utils.load('/home/ravi/metafma/fma_metadata/tracks.csv')\n",
    "genres = utils.load('/home/ravi/metafma/fma_metadata/genres.csv')\n",
    "features = utils.load('/home/ravi/metafma/fma_metadata/features.csv')\n",
    "echonest = utils.load('/home/ravi/metafma/fma_metadata/echonest.csv')"
   ]
  },
  {
   "cell_type": "code",
   "execution_count": 16,
   "metadata": {
    "ExecuteTime": {
     "end_time": "2018-02-10T23:04:42.338640Z",
     "start_time": "2018-02-10T23:04:42.215140Z"
    },
    "collapsed": false
   },
   "outputs": [
    {
     "name": "stdout",
     "output_type": "stream",
     "text": [
      "File: /media/ravi/507412DD7412C59E/fma_small/000/000010.mp3\n"
     ]
    }
   ],
   "source": [
    "filename = utils.get_audio_path(AUDIO_DIR, 10)\n",
    "print('File: {}'.format(filename))\n",
    "\n",
    "x = utils.FfmpegLoader().load(filename)\n",
    "sr=44100 # sampling rate"
   ]
  },
  {
   "cell_type": "code",
   "execution_count": 109,
   "metadata": {
    "ExecuteTime": {
     "end_time": "2018-02-11T00:00:01.623164Z",
     "start_time": "2018-02-11T00:00:01.616366Z"
    },
    "collapsed": false
   },
   "outputs": [],
   "source": [
    "def id_from_genre_text(genre_text,genres,top_level=True):\n",
    "    if top_level:\n",
    "        return genres.loc[genres['title']==genre_text].iloc[0][\"top_level\"]\n",
    "    return genres.index[genres['title']==genre_text].tolist()[0]\n",
    "\n",
    "def get_genre_id(track_id,tracks,genres):\n",
    "    track_genre_title = tracks[('track','genre_top')].iloc[track_id]\n",
    "    return id_from_genre_text(track_genre_title,genres)"
   ]
  },
  {
   "cell_type": "code",
   "execution_count": null,
   "metadata": {
    "collapsed": true
   },
   "outputs": [],
   "source": []
  }
 ],
 "metadata": {
  "anaconda-cloud": {},
  "kernelspec": {
   "display_name": "Python [amadeus]",
   "language": "python",
   "name": "Python [amadeus]"
  },
  "language_info": {
   "codemirror_mode": {
    "name": "ipython",
    "version": 3
   },
   "file_extension": ".py",
   "mimetype": "text/x-python",
   "name": "python",
   "nbconvert_exporter": "python",
   "pygments_lexer": "ipython3",
   "version": "3.6.4"
  },
  "varInspector": {
   "cols": {
    "lenName": 16,
    "lenType": 16,
    "lenVar": 40
   },
   "kernels_config": {
    "python": {
     "delete_cmd_postfix": "",
     "delete_cmd_prefix": "del ",
     "library": "var_list.py",
     "varRefreshCmd": "print(var_dic_list())"
    },
    "r": {
     "delete_cmd_postfix": ") ",
     "delete_cmd_prefix": "rm(",
     "library": "var_list.r",
     "varRefreshCmd": "cat(var_dic_list()) "
    }
   },
   "oldHeight": 392,
   "position": {
    "height": "40px",
    "left": "1550px",
    "right": "20px",
    "top": "122px",
    "width": "350px"
   },
   "types_to_exclude": [
    "module",
    "function",
    "builtin_function_or_method",
    "instance",
    "_Feature"
   ],
   "varInspector_section_display": "none",
   "window_display": true
  }
 },
 "nbformat": 4,
 "nbformat_minor": 0
}
