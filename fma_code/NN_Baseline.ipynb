{
 "cells": [
  {
   "cell_type": "code",
   "execution_count": 16,
   "metadata": {
    "ExecuteTime": {
     "end_time": "2018-02-13T12:17:32.629052Z",
     "start_time": "2018-02-13T12:17:32.621053Z"
    },
    "collapsed": false
   },
   "outputs": [],
   "source": [
    "import time\n",
    "import os\n",
    "import ast\n",
    "\n",
    "import IPython.display as ipd\n",
    "from tqdm import tqdm_notebook\n",
    "import numpy as np\n",
    "import pandas as pd\n",
    "\n",
    "import keras\n",
    "from keras.layers import Activation, Dense, Conv1D, Conv2D, MaxPooling1D, Flatten, Reshape\n",
    "\n",
    "from sklearn.utils import shuffle\n",
    "from sklearn.preprocessing import MultiLabelBinarizer, LabelEncoder, StandardScaler, LabelBinarizer\n",
    "from sklearn.linear_model import LogisticRegression\n",
    "\n",
    "from sklearn import linear_model\n",
    "\n",
    "import utils"
   ]
  },
  {
   "cell_type": "markdown",
   "metadata": {},
   "source": [
    "### Constants"
   ]
  },
  {
   "cell_type": "code",
   "execution_count": 17,
   "metadata": {
    "ExecuteTime": {
     "end_time": "2018-02-13T12:17:33.338473Z",
     "start_time": "2018-02-13T12:17:33.330441Z"
    },
    "collapsed": true
   },
   "outputs": [],
   "source": [
    "AUDIO_DIR = \"..\\\\fma_small\"\n",
    "META_DIR = \"..\\\\fma_metadata\"\n",
    "SUBSET = 'small'"
   ]
  },
  {
   "cell_type": "markdown",
   "metadata": {},
   "source": [
    "### Load data"
   ]
  },
  {
   "cell_type": "code",
   "execution_count": 18,
   "metadata": {
    "ExecuteTime": {
     "end_time": "2018-02-13T12:17:57.370975Z",
     "start_time": "2018-02-13T12:17:34.104836Z"
    },
    "collapsed": false
   },
   "outputs": [],
   "source": [
    "# Load metadata to memory\n",
    "tracks   = utils.load(META_DIR + '\\\\tracks.csv')\n",
    "features = utils.load(META_DIR + '\\\\features.csv')\n",
    "echonest = utils.load(META_DIR + '\\\\echonest.csv')\n",
    "#genres = utils.load(META_DIR + 'genres.csv')\n",
    "\n",
    "np.testing.assert_array_equal(features.index, tracks.index)\n",
    "assert echonest.index.isin(tracks.index).all()"
   ]
  },
  {
   "cell_type": "code",
   "execution_count": 19,
   "metadata": {
    "ExecuteTime": {
     "end_time": "2018-02-13T12:17:57.768310Z",
     "start_time": "2018-02-13T12:17:57.370975Z"
    },
    "collapsed": false
   },
   "outputs": [
    {
     "name": "stdout",
     "output_type": "stream",
     "text": [
      "Not enough Echonest features: (13129, 767)\n"
     ]
    },
    {
     "data": {
      "text/plain": [
       "((8000, 52), (8000, 518))"
      ]
     },
     "execution_count": 19,
     "metadata": {},
     "output_type": "execute_result"
    }
   ],
   "source": [
    "# Choose Subset\n",
    "subset = tracks.index[tracks['set', 'subset'] <= 'small']\n",
    "\n",
    "assert subset.isin(tracks.index).all()\n",
    "assert subset.isin(features.index).all()\n",
    "\n",
    "features_all = features.join(echonest, how='inner').sort_index(axis=1)\n",
    "print('Not enough Echonest features: {}'.format(features_all.shape))\n",
    "\n",
    "tracks = tracks.loc[subset]\n",
    "features_all = features.loc[subset]\n",
    "\n",
    "tracks.shape, features_all.shape"
   ]
  },
  {
   "cell_type": "code",
   "execution_count": 20,
   "metadata": {
    "ExecuteTime": {
     "end_time": "2018-02-13T12:17:57.784304Z",
     "start_time": "2018-02-13T12:17:57.772314Z"
    },
    "code_folding": [],
    "collapsed": true
   },
   "outputs": [],
   "source": [
    "# Splitting into Train, Validation, Test\n",
    "\n",
    "train = tracks.index[tracks['set', 'split'] == 'training']\n",
    "val   = tracks.index[tracks['set', 'split'] == 'validation']\n",
    "test  = tracks.index[tracks['set', 'split'] == 'test']"
   ]
  },
  {
   "cell_type": "code",
   "execution_count": null,
   "metadata": {
    "ExecuteTime": {
     "end_time": "2018-02-13T03:12:01.902949Z",
     "start_time": "2018-02-13T03:12:01.897932Z"
    },
    "collapsed": false
   },
   "outputs": [],
   "source": []
  },
  {
   "cell_type": "code",
   "execution_count": 21,
   "metadata": {
    "ExecuteTime": {
     "end_time": "2018-02-13T12:17:57.840307Z",
     "start_time": "2018-02-13T12:17:57.784304Z"
    },
    "collapsed": false
   },
   "outputs": [
    {
     "name": "stdout",
     "output_type": "stream",
     "text": [
      "6400 training examples\n",
      "800 validation examples\n",
      "800 testing examples\n",
      "Top genres (22): ['-', 'E', 'F', 'H', 'I', 'P', 'R', 'a', 'c', 'e', 'i', 'k', 'l', 'm', 'n', 'o', 'p', 'r', 's', 't', 'u', 'x']\n"
     ]
    }
   ],
   "source": [
    "print('{} training examples\\n{} validation examples\\n{} testing examples'.format(*map(len, [train, val, test])))\n",
    "\n",
    "genres = list(MultiLabelBinarizer().fit(tracks['track', 'genre_top']).classes_)\n",
    "print('Top genres ({}): {}'.format(len(genres), genres))\n",
    "#genres = list(MultiLabelBinarizer().fit(tracks['track', 'genres_all']).classes_)\n",
    "#print('All genres ({}): {}'.format(len(genres), genres))\n"
   ]
  },
  {
   "cell_type": "markdown",
   "metadata": {},
   "source": [
    "### Deep Learning Model No Audio"
   ]
  },
  {
   "cell_type": "code",
   "execution_count": null,
   "metadata": {
    "ExecuteTime": {
     "end_time": "2018-02-13T03:14:20.479640Z",
     "start_time": "2018-02-13T03:14:20.474615Z"
    },
    "collapsed": false
   },
   "outputs": [],
   "source": []
  },
  {
   "cell_type": "code",
   "execution_count": 22,
   "metadata": {
    "ExecuteTime": {
     "end_time": "2018-02-13T12:17:57.864303Z",
     "start_time": "2018-02-13T12:17:57.848321Z"
    },
    "collapsed": false
   },
   "outputs": [
    {
     "data": {
      "text/plain": [
       "(8000, 518)"
      ]
     },
     "execution_count": 22,
     "metadata": {},
     "output_type": "execute_result"
    }
   ],
   "source": [
    "features_all.shape"
   ]
  },
  {
   "cell_type": "code",
   "execution_count": 23,
   "metadata": {
    "ExecuteTime": {
     "end_time": "2018-02-13T12:17:57.880302Z",
     "start_time": "2018-02-13T12:17:57.868305Z"
    },
    "collapsed": false
   },
   "outputs": [],
   "source": [
    "def only_feature_nn(generes, features = 518):\n",
    "    model = keras.models.Sequential()\n",
    "    model.add(Dense(units=1000, input_shape=(features,)))\n",
    "    model.add(Activation(\"relu\"))\n",
    "    model.add(Dense(units=200))\n",
    "    model.add(Activation(\"relu\"))\n",
    "    model.add(Dense(units=generes))\n",
    "    model.add(Activation(\"softmax\"))\n",
    "    \n",
    "    optimizer = keras.optimizers.Adam()\n",
    "    model.compile(optimizer, loss='categorical_crossentropy', metrics=['accuracy'])\n",
    "    \n",
    "    return model\n",
    "    "
   ]
  },
  {
   "cell_type": "code",
   "execution_count": 24,
   "metadata": {
    "ExecuteTime": {
     "end_time": "2018-02-13T12:17:57.900303Z",
     "start_time": "2018-02-13T12:17:57.880302Z"
    },
    "collapsed": false
   },
   "outputs": [],
   "source": [
    "#labels_onehot = MultiLabelBinarizer().fit_transform(tracks['track', 'genre_top'])"
   ]
  },
  {
   "cell_type": "code",
   "execution_count": 25,
   "metadata": {
    "ExecuteTime": {
     "end_time": "2018-02-13T12:17:57.956306Z",
     "start_time": "2018-02-13T12:17:57.900303Z"
    },
    "collapsed": false
   },
   "outputs": [],
   "source": [
    "lb = LabelBinarizer()\n",
    "one_hot = lb.fit_transform(X=tracks['track', 'genre_top'])"
   ]
  },
  {
   "cell_type": "code",
   "execution_count": 11,
   "metadata": {
    "ExecuteTime": {
     "end_time": "2018-02-13T03:33:32.033844Z",
     "start_time": "2018-02-13T03:33:32.016797Z"
    },
    "collapsed": false
   },
   "outputs": [
    {
     "name": "stdout",
     "output_type": "stream",
     "text": [
      "(8000, 518)\n",
      "(8000, 8)\n"
     ]
    }
   ],
   "source": [
    "print(features_all.values.shape)\n",
    "print(one_hot.shape)"
   ]
  },
  {
   "cell_type": "code",
   "execution_count": 15,
   "metadata": {
    "ExecuteTime": {
     "end_time": "2018-02-13T12:17:28.309437Z",
     "start_time": "2018-02-13T12:17:28.297448Z"
    },
    "collapsed": false
   },
   "outputs": [],
   "source": [
    "X = features_all.values\n",
    "Y = one_hot"
   ]
  },
  {
   "cell_type": "code",
   "execution_count": 12,
   "metadata": {
    "ExecuteTime": {
     "end_time": "2018-02-13T03:34:02.981782Z",
     "start_time": "2018-02-13T03:33:32.042873Z"
    },
    "collapsed": false
   },
   "outputs": [
    {
     "name": "stdout",
     "output_type": "stream",
     "text": [
      "Epoch 1/20\n",
      " - 2s - loss: 14.1033 - acc: 0.1250\n",
      "Epoch 2/20\n",
      " - 1s - loss: 14.1033 - acc: 0.1250\n",
      "Epoch 3/20\n",
      " - 2s - loss: 14.1033 - acc: 0.1250\n",
      "Epoch 4/20\n",
      " - 2s - loss: 14.1033 - acc: 0.1250\n",
      "Epoch 5/20\n",
      " - 2s - loss: 14.1033 - acc: 0.1250\n",
      "Epoch 6/20\n",
      " - 2s - loss: 14.1033 - acc: 0.1250\n",
      "Epoch 7/20\n",
      " - 2s - loss: 14.1033 - acc: 0.1250\n",
      "Epoch 8/20\n",
      " - 1s - loss: 14.1033 - acc: 0.1250\n",
      "Epoch 9/20\n",
      " - 1s - loss: 14.1033 - acc: 0.1250\n",
      "Epoch 10/20\n",
      " - 1s - loss: 14.1033 - acc: 0.1250\n",
      "Epoch 11/20\n",
      " - 1s - loss: 14.1033 - acc: 0.1250\n",
      "Epoch 12/20\n",
      " - 2s - loss: 14.1033 - acc: 0.1250\n",
      "Epoch 13/20\n",
      " - 1s - loss: 14.1033 - acc: 0.1250\n",
      "Epoch 14/20\n",
      " - 1s - loss: 14.1033 - acc: 0.1250\n",
      "Epoch 15/20\n",
      " - 1s - loss: 14.1033 - acc: 0.1250\n",
      "Epoch 16/20\n",
      " - 1s - loss: 14.1033 - acc: 0.1250\n",
      "Epoch 17/20\n",
      " - 2s - loss: 14.1033 - acc: 0.1250\n",
      "Epoch 18/20\n",
      " - 1s - loss: 14.1033 - acc: 0.1250\n",
      "Epoch 19/20\n",
      " - 2s - loss: 14.1033 - acc: 0.1250\n",
      "Epoch 20/20\n",
      " - 1s - loss: 14.1033 - acc: 0.1250\n"
     ]
    }
   ],
   "source": [
    "params = {\n",
    "    \n",
    "}\n",
    "keras.backend.clear_session()\n",
    "model = only_feature_nn(one_hot.shape[1])\n",
    "\n",
    "history = model.fit(x =, y =  , batch_size=64, epochs=20, **params, verbose = 2)"
   ]
  },
  {
   "cell_type": "code",
   "execution_count": 45,
   "metadata": {
    "ExecuteTime": {
     "end_time": "2018-02-13T12:30:03.916169Z",
     "start_time": "2018-02-13T12:30:03.912170Z"
    },
    "collapsed": false
   },
   "outputs": [],
   "source": [
    "logreg = linear_model.LogisticRegression(verbose=2, max_iter=10)\n"
   ]
  },
  {
   "cell_type": "code",
   "execution_count": 37,
   "metadata": {
    "ExecuteTime": {
     "end_time": "2018-02-13T12:27:49.644957Z",
     "start_time": "2018-02-13T12:27:48.923926Z"
    },
    "collapsed": false
   },
   "outputs": [
    {
     "name": "stdout",
     "output_type": "stream",
     "text": [
      "[LibLinear]"
     ]
    },
    {
     "name": "stderr",
     "output_type": "stream",
     "text": [
      "C:\\ProgramData\\Anaconda3\\lib\\site-packages\\sklearn\\svm\\base.py:920: ConvergenceWarning: Liblinear failed to converge, increase the number of iterations.\n",
      "  \"the number of iterations.\", ConvergenceWarning)\n"
     ]
    },
    {
     "data": {
      "text/plain": [
       "LogisticRegression(C=1.0, class_weight=None, dual=False, fit_intercept=True,\n",
       "          intercept_scaling=1, max_iter=2, multi_class='ovr', n_jobs=1,\n",
       "          penalty='l2', random_state=None, solver='liblinear', tol=0.0001,\n",
       "          verbose=2, warm_start=False)"
      ]
     },
     "execution_count": 37,
     "metadata": {},
     "output_type": "execute_result"
    }
   ],
   "source": [
    "logreg.fit(X, tracks['track', 'genre_top'])"
   ]
  },
  {
   "cell_type": "code",
   "execution_count": 44,
   "metadata": {
    "ExecuteTime": {
     "end_time": "2018-02-13T12:29:49.578555Z",
     "start_time": "2018-02-13T12:29:49.546503Z"
    },
    "collapsed": false
   },
   "outputs": [
    {
     "data": {
      "text/plain": [
       "0.207875"
      ]
     },
     "execution_count": 44,
     "metadata": {},
     "output_type": "execute_result"
    }
   ],
   "source": [
    " np.mean(tracks['track', 'genre_top'] == logreg.predict(X))"
   ]
  },
  {
   "cell_type": "code",
   "execution_count": 42,
   "metadata": {
    "ExecuteTime": {
     "end_time": "2018-02-13T12:29:19.047869Z",
     "start_time": "2018-02-13T12:29:19.039847Z"
    },
    "collapsed": false
   },
   "outputs": [
    {
     "data": {
      "text/plain": [
       "array([0, 0, 0, 1, 0, 0, 0, 0])"
      ]
     },
     "execution_count": 42,
     "metadata": {},
     "output_type": "execute_result"
    }
   ],
   "source": []
  },
  {
   "cell_type": "markdown",
   "metadata": {},
   "source": [
    "### Deep Learning Model Using Audio"
   ]
  },
  {
   "cell_type": "code",
   "execution_count": null,
   "metadata": {
    "ExecuteTime": {
     "end_time": "2018-02-10T16:34:37.483389Z",
     "start_time": "2018-02-10T16:34:37.455317Z"
    },
    "collapsed": true
   },
   "outputs": [],
   "source": [
    "labels_onehot = MultiLabelBinarizer().fit_transform(tracks['track', 'genre_top'])\n",
    "labels_onehot = pd.DataFrame(labels_onehot, index=tracks.index)"
   ]
  },
  {
   "cell_type": "code",
   "execution_count": null,
   "metadata": {
    "ExecuteTime": {
     "end_time": "2018-02-10T16:36:18.704850Z",
     "start_time": "2018-02-10T16:36:18.138632Z"
    },
    "code_folding": [],
    "collapsed": false
   },
   "outputs": [],
   "source": [
    "# Sanitation Test, Just making sure it works\n",
    "utils.FfmpegLoader().load(utils.get_audio_path(AUDIO_DIR, 2))\n",
    "SampleLoader = utils.build_sample_loader(AUDIO_DIR, labels_onehot, utils.FfmpegLoader())\n",
    "SampleLoader(train, batch_size=2).__next__()[0].shape"
   ]
  },
  {
   "cell_type": "code",
   "execution_count": null,
   "metadata": {
    "ExecuteTime": {
     "end_time": "2018-02-10T18:39:30.798238Z",
     "start_time": "2018-02-10T18:39:30.792190Z"
    },
    "collapsed": false
   },
   "outputs": [],
   "source": [
    "params = {\n",
    "    \n",
    "}"
   ]
  },
  {
   "cell_type": "code",
   "execution_count": null,
   "metadata": {
    "ExecuteTime": {
     "end_time": "2018-02-10T16:44:01.769571Z",
     "start_time": "2018-02-10T16:44:01.761548Z"
    },
    "collapsed": true
   },
   "outputs": [],
   "source": [
    "def basic_fully_connected(loader, labels_onehot):\n",
    "    model = keras.models.Sequential()\n",
    "    model.add(Dense(units=1000, input_shape=loader.shape))\n",
    "    model.add(Activation(\"relu\"))\n",
    "    model.add(Dense(units=100))\n",
    "    model.add(Activation(\"relu\"))\n",
    "    model.add(Dense(units=labels_onehot.shape[1]))\n",
    "    model.add(Activation(\"softmax\"))\n",
    "    \n",
    "    optimizer = keras.optimizers.SGD(lr=0.1, momentum=0.9, nesterov=True)\n",
    "    model.compile(optimizer, loss='categorical_crossentropy', metrics=['accuracy'])\n",
    "    \n",
    "    return model\n"
   ]
  },
  {
   "cell_type": "code",
   "execution_count": null,
   "metadata": {
    "ExecuteTime": {
     "end_time": "2018-02-10T17:21:48.321980Z",
     "start_time": "2018-02-10T17:21:48.314961Z"
    },
    "collapsed": false
   },
   "outputs": [],
   "source": [
    "loader = utils.FfmpegLoader(sampling_rate=2000)\n",
    "SampleLoader = utils.build_sample_loader(AUDIO_DIR, labels_onehot, loader)\n",
    "print('Dimensionality: {}'.format(loader.shape))"
   ]
  },
  {
   "cell_type": "code",
   "execution_count": null,
   "metadata": {
    "ExecuteTime": {
     "end_time": "2018-02-10T17:50:02.149423Z",
     "start_time": "2018-02-10T17:48:43.886742Z"
    },
    "collapsed": false
   },
   "outputs": [],
   "source": [
    "keras.backend.clear_session()\n",
    "\n",
    "model = basic_fully_connected(loader, labels_onehot)\n",
    "model.fit_generator(SampleLoader(train, batch_size=64), train.size/100, epochs=2, **params)"
   ]
  },
  {
   "cell_type": "code",
   "execution_count": null,
   "metadata": {
    "collapsed": true
   },
   "outputs": [],
   "source": [
    "loss = model.evaluate_generator(SampleLoader(val, batch_size=64), val.size, **params)\n",
    "loss = model.evaluate_generator(SampleLoader(test, batch_size=64), test.size, **params)"
   ]
  },
  {
   "cell_type": "code",
   "execution_count": null,
   "metadata": {
    "ExecuteTime": {
     "end_time": "2018-02-10T17:18:58.588946Z",
     "start_time": "2018-02-10T17:18:58.578418Z"
    },
    "collapsed": false
   },
   "outputs": [],
   "source": []
  },
  {
   "cell_type": "code",
   "execution_count": null,
   "metadata": {
    "ExecuteTime": {
     "end_time": "2018-02-10T17:15:04.379889Z",
     "start_time": "2018-02-10T17:15:04.369865Z"
    },
    "collapsed": false
   },
   "outputs": [],
   "source": []
  },
  {
   "cell_type": "code",
   "execution_count": null,
   "metadata": {
    "ExecuteTime": {
     "end_time": "2018-02-10T17:20:56.034174Z",
     "start_time": "2018-02-10T17:20:55.919870Z"
    },
    "collapsed": false
   },
   "outputs": [],
   "source": []
  },
  {
   "cell_type": "code",
   "execution_count": null,
   "metadata": {
    "collapsed": true
   },
   "outputs": [],
   "source": []
  }
 ],
 "metadata": {
  "kernelspec": {
   "display_name": "Python 3",
   "language": "python",
   "name": "python3"
  },
  "language_info": {
   "codemirror_mode": {
    "name": "ipython",
    "version": 3
   },
   "file_extension": ".py",
   "mimetype": "text/x-python",
   "name": "python",
   "nbconvert_exporter": "python",
   "pygments_lexer": "ipython3",
   "version": "3.6.0"
  }
 },
 "nbformat": 4,
 "nbformat_minor": 2
}
