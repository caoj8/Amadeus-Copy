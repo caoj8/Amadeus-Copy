{
 "cells": [
  {
   "cell_type": "code",
   "execution_count": 1,
   "metadata": {
    "ExecuteTime": {
     "end_time": "2018-02-21T12:22:49.385799Z",
     "start_time": "2018-02-21T12:22:46.641033Z"
    },
    "collapsed": false
   },
   "outputs": [
    {
     "name": "stderr",
     "output_type": "stream",
     "text": [
      "Using TensorFlow backend.\n"
     ]
    }
   ],
   "source": [
    "import time\n",
    "import os\n",
    "import ast\n",
    "\n",
    "import IPython.display as ipd\n",
    "from tqdm import tqdm_notebook\n",
    "import numpy as np\n",
    "import pandas as pd\n",
    "\n",
    "import keras\n",
    "from keras.layers import Activation, Dense, Conv1D, Conv2D, MaxPooling1D, Flatten, Reshape\n",
    "\n",
    "from sklearn.utils import shuffle\n",
    "from sklearn.metrics import confusion_matrix\n",
    "from sklearn.preprocessing import MultiLabelBinarizer, LabelEncoder, StandardScaler, LabelBinarizer\n",
    "from sklearn.linear_model import LogisticRegression\n",
    "\n",
    "from sklearn import linear_model\n",
    "\n",
    "\n",
    "import matplotlib.pyplot as plt\n",
    "import itertools\n",
    "\n",
    "import utils\n",
    "from utils import plot_confusion_matrix"
   ]
  },
  {
   "cell_type": "markdown",
   "metadata": {},
   "source": [
    "### Constants"
   ]
  },
  {
   "cell_type": "code",
   "execution_count": 2,
   "metadata": {
    "ExecuteTime": {
     "end_time": "2018-02-21T12:22:49.390848Z",
     "start_time": "2018-02-21T12:22:49.386839Z"
    },
    "collapsed": true
   },
   "outputs": [],
   "source": [
    "AUDIO_DIR = \"..\\\\fma_small\"\n",
    "META_DIR = \"..\\\\fma_metadata\"\n",
    "SUBSET = 'small'"
   ]
  },
  {
   "cell_type": "markdown",
   "metadata": {},
   "source": [
    "### Load data"
   ]
  },
  {
   "cell_type": "code",
   "execution_count": 3,
   "metadata": {
    "ExecuteTime": {
     "end_time": "2018-02-21T12:22:49.436952Z",
     "start_time": "2018-02-21T12:22:49.392822Z"
    },
    "collapsed": false
   },
   "outputs": [],
   "source": [
    "# Load metadata to memory\n",
    "def load_meta_data(): \n",
    "    tracks_all   = utils.load(META_DIR + '\\\\tracks.csv')\n",
    "    features_all = utils.load(META_DIR + '\\\\features.csv')\n",
    "    echonest_all = utils.load(META_DIR + '\\\\echonest.csv')\n",
    "\n",
    "    #genres = utils.load(META_DIR + 'genres.csv')\n",
    "\n",
    "    np.testing.assert_array_equal(features_all.index, tracks_all.index)\n",
    "    assert echonest_all.index.isin(tracks_all.index).all()\n",
    "    \n",
    "    \n",
    "    return tracks_all, features_all, echonest_all"
   ]
  },
  {
   "cell_type": "code",
   "execution_count": 4,
   "metadata": {
    "ExecuteTime": {
     "end_time": "2018-02-21T12:22:49.460031Z",
     "start_time": "2018-02-21T12:22:49.438944Z"
    },
    "collapsed": false
   },
   "outputs": [],
   "source": [
    "# Choose Subset\n",
    "def choose_small_subset(tracks_all, features_all, echonest_all):\n",
    "    subset = tracks_all.index[tracks_all['set', 'subset'] <= 'small']\n",
    "\n",
    "    assert subset.isin(tracks_all.index).all()\n",
    "    assert subset.isin(features_all.index).all()\n",
    "    \n",
    "    tracks = tracks_all.loc[subset]\n",
    "    features = features_all.loc[subset]\n",
    "\n",
    "    return tracks, features\n",
    "    "
   ]
  },
  {
   "cell_type": "code",
   "execution_count": 5,
   "metadata": {
    "ExecuteTime": {
     "end_time": "2018-02-21T12:23:14.603245Z",
     "start_time": "2018-02-21T12:22:49.462005Z"
    },
    "collapsed": false
   },
   "outputs": [
    {
     "name": "stderr",
     "output_type": "stream",
     "text": [
      "D:\\Dropbox\\172B Big\\Amadeus\\fma_code\\utils.py:214: FutureWarning: specifying 'categories' or 'ordered' in .astype() is deprecated; pass a CategoricalDtype instead\n",
      "  'category', categories=SUBSETS, ordered=True)\n"
     ]
    }
   ],
   "source": [
    "tracks_all, features_all, echonest_all = load_meta_data()\n",
    "tracks, features =  choose_small_subset(tracks_all, features_all, echonest_all)"
   ]
  },
  {
   "cell_type": "code",
   "execution_count": 6,
   "metadata": {
    "ExecuteTime": {
     "end_time": "2018-02-21T12:23:14.610223Z",
     "start_time": "2018-02-21T12:23:14.604211Z"
    },
    "collapsed": false
   },
   "outputs": [
    {
     "data": {
      "text/plain": [
       "((8000, 52), (8000, 518))"
      ]
     },
     "execution_count": 6,
     "metadata": {},
     "output_type": "execute_result"
    }
   ],
   "source": [
    "tracks.shape, features.shape"
   ]
  },
  {
   "cell_type": "markdown",
   "metadata": {},
   "source": [
    "### Split Train Val Test"
   ]
  },
  {
   "cell_type": "code",
   "execution_count": 7,
   "metadata": {
    "ExecuteTime": {
     "end_time": "2018-02-21T12:23:14.662392Z",
     "start_time": "2018-02-21T12:23:14.611226Z"
    },
    "code_folding": [],
    "collapsed": false
   },
   "outputs": [
    {
     "name": "stdout",
     "output_type": "stream",
     "text": [
      "6400 training examples\n",
      "800 validation examples\n",
      "800 testing examples\n"
     ]
    }
   ],
   "source": [
    "# Splitting into Train, Validation, Test\n",
    "train_index = tracks.index[tracks['set', 'split'] == 'training']\n",
    "val_index   = tracks.index[tracks['set', 'split'] == 'validation']\n",
    "test_index  = tracks.index[tracks['set', 'split'] == 'test']\n",
    "\n",
    "\n",
    "print('{} training examples'.format(len(train_index)))\n",
    "print('{} validation examples'.format(len(val_index)))\n",
    "print('{} testing examples'.format(len(test_index)))"
   ]
  },
  {
   "cell_type": "code",
   "execution_count": 8,
   "metadata": {
    "ExecuteTime": {
     "end_time": "2018-02-21T12:23:14.679409Z",
     "start_time": "2018-02-21T12:23:14.664366Z"
    },
    "collapsed": false
   },
   "outputs": [],
   "source": [
    "X = features.values\n",
    "Y = tracks['track']['genre_top']"
   ]
  },
  {
   "cell_type": "code",
   "execution_count": 9,
   "metadata": {
    "ExecuteTime": {
     "end_time": "2018-02-21T12:23:14.787696Z",
     "start_time": "2018-02-21T12:23:14.683418Z"
    },
    "collapsed": false
   },
   "outputs": [],
   "source": [
    "Xtrain = features.loc[train_index].values\n",
    "Xval  = features.loc[val_index].values\n",
    "Xtest  = features.loc[test_index].values\n",
    "\n",
    "Ytrain = tracks.loc[train_index]['track']['genre_top'].values\n",
    "Yval = tracks.loc[val_index]['track']['genre_top'].values\n",
    "Ytest = tracks.loc[test_index]['track']['genre_top'].values"
   ]
  },
  {
   "cell_type": "code",
   "execution_count": 10,
   "metadata": {
    "ExecuteTime": {
     "end_time": "2018-02-21T12:23:14.796719Z",
     "start_time": "2018-02-21T12:23:14.790706Z"
    },
    "collapsed": false
   },
   "outputs": [],
   "source": [
    "classes = list(set(Y))"
   ]
  },
  {
   "cell_type": "code",
   "execution_count": null,
   "metadata": {
    "collapsed": true
   },
   "outputs": [],
   "source": []
  },
  {
   "cell_type": "markdown",
   "metadata": {},
   "source": [
    "### Logistic Regression Baseline (Works Well)"
   ]
  },
  {
   "cell_type": "code",
   "execution_count": 11,
   "metadata": {
    "ExecuteTime": {
     "end_time": "2018-02-21T12:23:14.909018Z",
     "start_time": "2018-02-21T12:23:14.797721Z"
    },
    "collapsed": false
   },
   "outputs": [],
   "source": [
    "Xtrain = features.loc[train_index].values\n",
    "Xval  = features.loc[val_index].values\n",
    "Xtest  = features.loc[test_index].values\n",
    "\n",
    "Ytrain = tracks.loc[train_index]['track']['genre_top']\n",
    "Yval = tracks.loc[val_index]['track']['genre_top']\n",
    "Ytest = tracks.loc[test_index]['track']['genre_top']"
   ]
  },
  {
   "cell_type": "code",
   "execution_count": 12,
   "metadata": {
    "ExecuteTime": {
     "end_time": "2018-02-21T12:23:14.918043Z",
     "start_time": "2018-02-21T12:23:14.912026Z"
    },
    "collapsed": false
   },
   "outputs": [],
   "source": [
    "logreg = linear_model.LogisticRegression(verbose=2, max_iter=40)"
   ]
  },
  {
   "cell_type": "code",
   "execution_count": 13,
   "metadata": {
    "ExecuteTime": {
     "end_time": "2018-02-21T12:23:41.450771Z",
     "start_time": "2018-02-21T12:23:14.922052Z"
    },
    "collapsed": false
   },
   "outputs": [
    {
     "name": "stdout",
     "output_type": "stream",
     "text": [
      "[LibLinear]"
     ]
    },
    {
     "name": "stderr",
     "output_type": "stream",
     "text": [
      "C:\\ProgramData\\Anaconda3\\lib\\site-packages\\sklearn\\svm\\base.py:920: ConvergenceWarning: Liblinear failed to converge, increase the number of iterations.\n",
      "  \"the number of iterations.\", ConvergenceWarning)\n"
     ]
    },
    {
     "data": {
      "text/plain": [
       "LogisticRegression(C=1.0, class_weight=None, dual=False, fit_intercept=True,\n",
       "          intercept_scaling=1, max_iter=40, multi_class='ovr', n_jobs=1,\n",
       "          penalty='l2', random_state=None, solver='liblinear', tol=0.0001,\n",
       "          verbose=2, warm_start=False)"
      ]
     },
     "execution_count": 13,
     "metadata": {},
     "output_type": "execute_result"
    }
   ],
   "source": [
    "logreg.fit(Xtrain, Ytrain)"
   ]
  },
  {
   "cell_type": "code",
   "execution_count": 14,
   "metadata": {
    "ExecuteTime": {
     "end_time": "2018-02-21T12:23:41.468819Z",
     "start_time": "2018-02-21T12:23:41.451773Z"
    },
    "collapsed": false
   },
   "outputs": [
    {
     "data": {
      "text/plain": [
       "0.5909375"
      ]
     },
     "execution_count": 14,
     "metadata": {},
     "output_type": "execute_result"
    }
   ],
   "source": [
    "YtrainHat = logreg.predict(Xtrain)\n",
    "np.mean(Ytrain == YtrainHat)"
   ]
  },
  {
   "cell_type": "code",
   "execution_count": 15,
   "metadata": {
    "ExecuteTime": {
     "end_time": "2018-02-21T12:23:41.504916Z",
     "start_time": "2018-02-21T12:23:41.469823Z"
    },
    "collapsed": false
   },
   "outputs": [
    {
     "data": {
      "text/plain": [
       "0.45124999999999998"
      ]
     },
     "execution_count": 15,
     "metadata": {},
     "output_type": "execute_result"
    }
   ],
   "source": [
    "YtestHat = logreg.predict(Xtest)\n",
    "np.mean(Ytest == YtestHat)"
   ]
  },
  {
   "cell_type": "code",
   "execution_count": 16,
   "metadata": {
    "ExecuteTime": {
     "end_time": "2018-02-21T12:23:41.520962Z",
     "start_time": "2018-02-21T12:23:41.506920Z"
    },
    "collapsed": false
   },
   "outputs": [
    {
     "data": {
      "text/plain": [
       "0.53625"
      ]
     },
     "execution_count": 16,
     "metadata": {},
     "output_type": "execute_result"
    }
   ],
   "source": [
    "YvalHat = logreg.predict(Xval)\n",
    "np.mean(Yval == YvalHat)"
   ]
  },
  {
   "cell_type": "code",
   "execution_count": 17,
   "metadata": {
    "ExecuteTime": {
     "end_time": "2018-02-21T12:23:42.082457Z",
     "start_time": "2018-02-21T12:23:41.521958Z"
    },
    "collapsed": false,
    "scrolled": true
   },
   "outputs": [
    {
     "name": "stdout",
     "output_type": "stream",
     "text": [
      "Confusion matrix, without normalization\n",
      "[[55  7  2 15  4  3  7  7]\n",
      " [ 4 36 15  4 17 13  4  7]\n",
      " [ 0 20 14  0 12 26 18 10]\n",
      " [ 8  3  2 74  5  7  1  0]\n",
      " [ 3 14 25  3 45  1  5  4]\n",
      " [10  4 19  7  3 45 10  2]\n",
      " [24  3  8 12  4 11 30  8]\n",
      " [ 5  6  2  3  4  3 15 62]]\n"
     ]
    },
    {
     "data": {
      "image/png": "[encoded data removed]",
      "text/plain": [
       "<matplotlib.figure.Figure at 0x149dc4f95c0>"
      ]
     },
     "metadata": {},
     "output_type": "display_data"
    }
   ],
   "source": [
    "cnf_matrix = confusion_matrix(Ytest, YtestHat)\n",
    "plot_confusion_matrix(cnf_matrix, classes)\n",
    "plt.show()"
   ]
  },
  {
   "cell_type": "markdown",
   "metadata": {},
   "source": [
    "### Deep Learning Model No Audio (broken model predicts all same genre)"
   ]
  },
  {
   "cell_type": "code",
   "execution_count": null,
   "metadata": {
    "ExecuteTime": {
     "end_time": "2018-02-21T11:26:20.800290Z",
     "start_time": "2018-02-21T11:26:20.792285Z"
    },
    "collapsed": true
   },
   "outputs": [],
   "source": [
    "features = 518\n",
    "genres = 8"
   ]
  },
  {
   "cell_type": "code",
   "execution_count": null,
   "metadata": {
    "ExecuteTime": {
     "end_time": "2018-02-21T11:27:07.491550Z",
     "start_time": "2018-02-21T11:27:07.463522Z"
    },
    "collapsed": true
   },
   "outputs": [],
   "source": [
    "labelBinarizer = LabelBinarizer()\n",
    "ohTrain = labelBinarizer.fit_transform(X=Ytrain)\n",
    "ohVal  = labelBinarizer.fit_transform(X=Yval)"
   ]
  },
  {
   "cell_type": "code",
   "execution_count": null,
   "metadata": {
    "ExecuteTime": {
     "end_time": "2018-02-21T11:33:45.354659Z",
     "start_time": "2018-02-21T11:33:45.346633Z"
    },
    "collapsed": false
   },
   "outputs": [],
   "source": [
    "def init_env_and_tfboard():\n",
    "    from datetime import datetime\n",
    "    now = datetime.now()\n",
    "\n",
    "    keras.backend.clear_session()\n",
    "    TFboard = keras.callbacks.TensorBoard(log_dir='./logs/FullyConnected_' + now.strftime(\"%Y%m%d-%H%M%S\")  +'/', histogram_freq = 1)\n",
    "    return TFBoard"
   ]
  },
  {
   "cell_type": "code",
   "execution_count": null,
   "metadata": {
    "ExecuteTime": {
     "end_time": "2018-02-21T11:32:00.109509Z",
     "start_time": "2018-02-21T11:31:59.993497Z"
    },
    "collapsed": false
   },
   "outputs": [],
   "source": [
    "# model = keras.models.Sequential()\n",
    "# model.add(Dense(units=600, input_shape=(features,)))\n",
    "# model.add(Activation(\"relu\"))\n",
    "# #model.add(keras.layers.Dropout(0.5, noise_shape=None, seed=None))\n",
    "# model.add(Dense(units=genres))\n",
    "# model.add(Activation(\"sigmoid\"))\n",
    "from keras.models import Sequential\n",
    "\n",
    "model = Sequential([\n",
    "    Dense(32, input_shape=(features,)),\n",
    "    Activation('relu'),\n",
    "    Dense(genres),\n",
    "    Activation('softmax'),\n",
    "])    \n",
    "    \n",
    "optimizer = keras.optimizers.Adam()\n",
    "model.compile(optimizer, loss='categorical_crossentropy', metrics=['accuracy'])\n",
    "#model.compile(optimizer, loss='mean_squared_error', metrics=['accuracy','categorical_accuracy'])"
   ]
  },
  {
   "cell_type": "code",
   "execution_count": null,
   "metadata": {
    "ExecuteTime": {
     "end_time": "2018-02-21T11:25:15.625498Z",
     "start_time": "2018-02-21T11:25:15.617496Z"
    },
    "collapsed": false
   },
   "outputs": [],
   "source": []
  },
  {
   "cell_type": "code",
   "execution_count": null,
   "metadata": {
    "ExecuteTime": {
     "end_time": "2018-02-21T11:32:09.515011Z",
     "start_time": "2018-02-21T11:32:01.088277Z"
    },
    "collapsed": false
   },
   "outputs": [],
   "source": [
    "params = {\n",
    "        \"callbacks\": [TFboard],\n",
    "        \"validation_data\": (Xval, ohVal)\n",
    "}\n",
    "history = model.fit(x = Xtrain, y = ohTrain, epochs=15, **params, verbose = 2)"
   ]
  },
  {
   "cell_type": "code",
   "execution_count": null,
   "metadata": {
    "ExecuteTime": {
     "end_time": "2018-02-20T13:06:10.280590Z",
     "start_time": "2018-02-20T13:06:09.891186Z"
    },
    "collapsed": false
   },
   "outputs": [],
   "source": [
    "labelBinarizer.inverse_transform(model.predict(Xtrain))"
   ]
  },
  {
   "cell_type": "code",
   "execution_count": null,
   "metadata": {
    "ExecuteTime": {
     "end_time": "2018-02-20T12:59:23.879991Z",
     "start_time": "2018-02-20T12:59:23.871959Z"
    },
    "collapsed": false
   },
   "outputs": [],
   "source": [
    "from collections import Counter\n",
    "Counter(Ytrain)"
   ]
  },
  {
   "cell_type": "markdown",
   "metadata": {},
   "source": [
    "### Deep Learning Model Using Audio"
   ]
  },
  {
   "cell_type": "code",
   "execution_count": null,
   "metadata": {
    "ExecuteTime": {
     "end_time": "2018-02-21T12:05:05.958587Z",
     "start_time": "2018-02-21T12:05:05.934624Z"
    },
    "collapsed": true
   },
   "outputs": [],
   "source": [
    "labels_onehot = MultiLabelBinarizer().fit_transform(tracks['track', 'genre_top'])\n",
    "labels_onehot = pd.DataFrame(labels_onehot, index=tracks.index)"
   ]
  },
  {
   "cell_type": "code",
   "execution_count": null,
   "metadata": {
    "ExecuteTime": {
     "end_time": "2018-02-21T12:05:06.314588Z",
     "start_time": "2018-02-21T12:05:06.290602Z"
    },
    "code_folding": [],
    "collapsed": false
   },
   "outputs": [],
   "source": [
    "# Sanitation Test, Just making sure it works\n",
    "utils.FfmpegLoader().load(utils.get_audio_path(AUDIO_DIR, 2))\n",
    "SampleLoader = utils.build_sample_loader(AUDIO_DIR, labels_onehot, utils.FfmpegLoader())\n",
    "SampleLoader(train, batch_size=2).__next__()[0].shape"
   ]
  },
  {
   "cell_type": "code",
   "execution_count": null,
   "metadata": {
    "ExecuteTime": {
     "end_time": "2018-02-10T18:39:30.798238Z",
     "start_time": "2018-02-10T18:39:30.792190Z"
    },
    "collapsed": false
   },
   "outputs": [],
   "source": [
    "params = {\n",
    "    \n",
    "}"
   ]
  },
  {
   "cell_type": "code",
   "execution_count": null,
   "metadata": {
    "ExecuteTime": {
     "end_time": "2018-02-10T16:44:01.769571Z",
     "start_time": "2018-02-10T16:44:01.761548Z"
    },
    "collapsed": true
   },
   "outputs": [],
   "source": [
    "def basic_fully_connected(loader, labels_onehot):\n",
    "    model = keras.models.Sequential()\n",
    "    model.add(Dense(units=1000, input_shape=loader.shape))\n",
    "    model.add(Activation(\"relu\"))\n",
    "    model.add(Dense(units=100))\n",
    "    model.add(Activation(\"relu\"))\n",
    "    model.add(Dense(units=labels_onehot.shape[1]))\n",
    "    model.add(Activation(\"softmax\"))\n",
    "    \n",
    "    optimizer = keras.optimizers.SGD(lr=0.1, momentum=0.9, nesterov=True)\n",
    "    model.compile(optimizer, loss='categorical_crossentropy', metrics=['accuracy'])\n",
    "    \n",
    "    return model\n"
   ]
  },
  {
   "cell_type": "code",
   "execution_count": null,
   "metadata": {
    "ExecuteTime": {
     "end_time": "2018-02-10T17:21:48.321980Z",
     "start_time": "2018-02-10T17:21:48.314961Z"
    },
    "collapsed": false
   },
   "outputs": [],
   "source": [
    "loader = utils.FfmpegLoader(sampling_rate=2000)\n",
    "SampleLoader = utils.build_sample_loader(AUDIO_DIR, labels_onehot, loader)\n",
    "print('Dimensionality: {}'.format(loader.shape))"
   ]
  },
  {
   "cell_type": "code",
   "execution_count": null,
   "metadata": {
    "ExecuteTime": {
     "end_time": "2018-02-10T17:50:02.149423Z",
     "start_time": "2018-02-10T17:48:43.886742Z"
    },
    "collapsed": false
   },
   "outputs": [],
   "source": [
    "keras.backend.clear_session()\n",
    "\n",
    "model = basic_fully_connected(loader, labels_onehot)\n",
    "model.fit_generator(SampleLoader(train, batch_size=64), train.size/100, epochs=2, **params)"
   ]
  },
  {
   "cell_type": "code",
   "execution_count": null,
   "metadata": {
    "collapsed": true
   },
   "outputs": [],
   "source": [
    "loss = model.evaluate_generator(SampleLoader(val, batch_size=64), val.size, **params)\n",
    "loss = model.evaluate_generator(SampleLoader(test, batch_size=64), test.size, **params)"
   ]
  },
  {
   "cell_type": "code",
   "execution_count": null,
   "metadata": {
    "ExecuteTime": {
     "end_time": "2018-02-15T12:25:04.652352Z",
     "start_time": "2018-02-15T12:25:04.073810Z"
    },
    "collapsed": false
   },
   "outputs": [],
   "source": [
    "import _pickle as pickle\n",
    "import pandas as pd\n",
    "\n",
    "df = pd.read_pickle(\"../test_samples/2test.p\")\n"
   ]
  },
  {
   "cell_type": "code",
   "execution_count": null,
   "metadata": {
    "ExecuteTime": {
     "end_time": "2018-02-15T12:22:28.947466Z",
     "start_time": "2018-02-15T12:22:28.923455Z"
    },
    "collapsed": false
   },
   "outputs": [],
   "source": [
    "with open(\"../test_samples/2test.p\",'rb') as infile:\n",
    "    df = pickle.load(infile)"
   ]
  },
  {
   "cell_type": "code",
   "execution_count": null,
   "metadata": {
    "collapsed": true
   },
   "outputs": [],
   "source": []
  }
 ],
 "metadata": {
  "kernelspec": {
   "display_name": "Python 3",
   "language": "python",
   "name": "python3"
  },
  "language_info": {
   "codemirror_mode": {
    "name": "ipython",
    "version": 3
   },
   "file_extension": ".py",
   "mimetype": "text/x-python",
   "name": "python",
   "nbconvert_exporter": "python",
   "pygments_lexer": "ipython3",
   "version": "3.6.0"
  }
 },
 "nbformat": 4,
 "nbformat_minor": 2
}
