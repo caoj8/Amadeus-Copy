{
 "cells": [
  {
   "cell_type": "code",
   "execution_count": 1,
   "metadata": {
    "ExecuteTime": {
     "end_time": "2018-02-13T03:33:10.445028Z",
     "start_time": "2018-02-13T03:33:07.733209Z"
    },
    "collapsed": false
   },
   "outputs": [
    {
     "name": "stderr",
     "output_type": "stream",
     "text": [
      "Using TensorFlow backend.\n"
     ]
    }
   ],
   "source": [
    "import time\n",
    "import os\n",
    "import ast\n",
    "\n",
    "import IPython.display as ipd\n",
    "from tqdm import tqdm_notebook\n",
    "import numpy as np\n",
    "import pandas as pd\n",
    "\n",
    "import keras\n",
    "from keras.layers import Activation, Dense, Conv1D, Conv2D, MaxPooling1D, Flatten, Reshape\n",
    "\n",
    "from sklearn.utils import shuffle\n",
    "from sklearn.preprocessing import MultiLabelBinarizer, LabelEncoder, StandardScaler, LabelBinarizer\n",
    "from sklearn.linear_model import LogisticRegression\n",
    "\n",
    "\n",
    "import utils"
   ]
  },
  {
   "cell_type": "markdown",
   "metadata": {},
   "source": [
    "### Constants"
   ]
  },
  {
   "cell_type": "code",
   "execution_count": 2,
   "metadata": {
    "ExecuteTime": {
     "end_time": "2018-02-13T03:33:10.449655Z",
     "start_time": "2018-02-13T03:33:10.445028Z"
    },
    "collapsed": true
   },
   "outputs": [],
   "source": [
    "AUDIO_DIR = \"..\\\\fma_small\"\n",
    "META_DIR = \"..\\\\fma_metadata\"\n",
    "SUBSET = 'small'"
   ]
  },
  {
   "cell_type": "markdown",
   "metadata": {},
   "source": [
    "### Load data"
   ]
  },
  {
   "cell_type": "code",
   "execution_count": 3,
   "metadata": {
    "ExecuteTime": {
     "end_time": "2018-02-13T03:33:31.296344Z",
     "start_time": "2018-02-13T03:33:10.450674Z"
    },
    "collapsed": false
   },
   "outputs": [],
   "source": [
    "# Load metadata to memory\n",
    "tracks   = utils.load(META_DIR + '\\\\tracks.csv')\n",
    "features = utils.load(META_DIR + '\\\\features.csv')\n",
    "echonest = utils.load(META_DIR + '\\\\echonest.csv')\n",
    "#genres = utils.load(META_DIR + 'genres.csv')\n",
    "\n",
    "np.testing.assert_array_equal(features.index, tracks.index)\n",
    "assert echonest.index.isin(tracks.index).all()"
   ]
  },
  {
   "cell_type": "code",
   "execution_count": 4,
   "metadata": {
    "ExecuteTime": {
     "end_time": "2018-02-13T03:33:31.834336Z",
     "start_time": "2018-02-13T03:33:31.296344Z"
    },
    "collapsed": false
   },
   "outputs": [
    {
     "name": "stdout",
     "output_type": "stream",
     "text": [
      "Not enough Echonest features: (13129, 767)\n"
     ]
    },
    {
     "data": {
      "text/plain": [
       "((8000, 52), (8000, 518))"
      ]
     },
     "execution_count": 4,
     "metadata": {},
     "output_type": "execute_result"
    }
   ],
   "source": [
    "# Choose Subset\n",
    "subset = tracks.index[tracks['set', 'subset'] <= 'small']\n",
    "\n",
    "assert subset.isin(tracks.index).all()\n",
    "assert subset.isin(features.index).all()\n",
    "\n",
    "features_all = features.join(echonest, how='inner').sort_index(axis=1)\n",
    "print('Not enough Echonest features: {}'.format(features_all.shape))\n",
    "\n",
    "tracks = tracks.loc[subset]\n",
    "features_all = features.loc[subset]\n",
    "\n",
    "tracks.shape, features_all.shape"
   ]
  },
  {
   "cell_type": "code",
   "execution_count": 5,
   "metadata": {
    "ExecuteTime": {
     "end_time": "2018-02-13T03:33:31.848348Z",
     "start_time": "2018-02-13T03:33:31.836318Z"
    },
    "code_folding": [],
    "collapsed": true
   },
   "outputs": [],
   "source": [
    "# Splitting into Train, Validation, Test\n",
    "\n",
    "train = tracks.index[tracks['set', 'split'] == 'training']\n",
    "val   = tracks.index[tracks['set', 'split'] == 'validation']\n",
    "test  = tracks.index[tracks['set', 'split'] == 'test']"
   ]
  },
  {
   "cell_type": "code",
   "execution_count": null,
   "metadata": {
    "ExecuteTime": {
     "end_time": "2018-02-13T03:12:01.902949Z",
     "start_time": "2018-02-13T03:12:01.897932Z"
    },
    "collapsed": false
   },
   "outputs": [],
   "source": []
  },
  {
   "cell_type": "code",
   "execution_count": 6,
   "metadata": {
    "ExecuteTime": {
     "end_time": "2018-02-13T03:33:31.898482Z",
     "start_time": "2018-02-13T03:33:31.850359Z"
    },
    "collapsed": false
   },
   "outputs": [
    {
     "name": "stdout",
     "output_type": "stream",
     "text": [
      "6400 training examples\n",
      "800 validation examples\n",
      "800 testing examples\n",
      "Top genres (22): ['-', 'E', 'F', 'H', 'I', 'P', 'R', 'a', 'c', 'e', 'i', 'k', 'l', 'm', 'n', 'o', 'p', 'r', 's', 't', 'u', 'x']\n"
     ]
    }
   ],
   "source": [
    "print('{} training examples\\n{} validation examples\\n{} testing examples'.format(*map(len, [train, val, test])))\n",
    "\n",
    "genres = list(MultiLabelBinarizer().fit(tracks['track', 'genre_top']).classes_)\n",
    "print('Top genres ({}): {}'.format(len(genres), genres))\n",
    "#genres = list(MultiLabelBinarizer().fit(tracks['track', 'genres_all']).classes_)\n",
    "#print('All genres ({}): {}'.format(len(genres), genres))\n"
   ]
  },
  {
   "cell_type": "markdown",
   "metadata": {},
   "source": [
    "### Deep Learning Model No Audio"
   ]
  },
  {
   "cell_type": "code",
   "execution_count": null,
   "metadata": {
    "ExecuteTime": {
     "end_time": "2018-02-13T03:14:20.479640Z",
     "start_time": "2018-02-13T03:14:20.474615Z"
    },
    "collapsed": false
   },
   "outputs": [],
   "source": []
  },
  {
   "cell_type": "code",
   "execution_count": 7,
   "metadata": {
    "ExecuteTime": {
     "end_time": "2018-02-13T03:33:31.917536Z",
     "start_time": "2018-02-13T03:33:31.901494Z"
    },
    "collapsed": false
   },
   "outputs": [
    {
     "data": {
      "text/plain": [
       "(8000, 518)"
      ]
     },
     "execution_count": 7,
     "metadata": {},
     "output_type": "execute_result"
    }
   ],
   "source": [
    "features_all.shape"
   ]
  },
  {
   "cell_type": "code",
   "execution_count": 8,
   "metadata": {
    "ExecuteTime": {
     "end_time": "2018-02-13T03:33:31.940593Z",
     "start_time": "2018-02-13T03:33:31.921544Z"
    },
    "collapsed": false
   },
   "outputs": [],
   "source": [
    "def only_feature_nn(generes, features = 518):\n",
    "    model = keras.models.Sequential()\n",
    "    model.add(Dense(units=1000, input_shape=(features,)))\n",
    "    model.add(Activation(\"relu\"))\n",
    "    model.add(Dense(units=200))\n",
    "    model.add(Activation(\"relu\"))\n",
    "    model.add(Dense(units=generes))\n",
    "    model.add(Activation(\"softmax\"))\n",
    "    \n",
    "    optimizer = keras.optimizers.Adam()\n",
    "    model.compile(optimizer, loss='categorical_crossentropy', metrics=['accuracy'])\n",
    "    \n",
    "    return model\n",
    "    "
   ]
  },
  {
   "cell_type": "code",
   "execution_count": 9,
   "metadata": {
    "ExecuteTime": {
     "end_time": "2018-02-13T03:33:31.965661Z",
     "start_time": "2018-02-13T03:33:31.941596Z"
    },
    "collapsed": false
   },
   "outputs": [],
   "source": [
    "#labels_onehot = MultiLabelBinarizer().fit_transform(tracks['track', 'genre_top'])"
   ]
  },
  {
   "cell_type": "code",
   "execution_count": 10,
   "metadata": {
    "ExecuteTime": {
     "end_time": "2018-02-13T03:33:32.014792Z",
     "start_time": "2018-02-13T03:33:31.967668Z"
    },
    "collapsed": false
   },
   "outputs": [],
   "source": [
    "lb = LabelBinarizer()\n",
    "one_hot = lb.fit_transform(X=tracks['track', 'genre_top'])"
   ]
  },
  {
   "cell_type": "code",
   "execution_count": 11,
   "metadata": {
    "ExecuteTime": {
     "end_time": "2018-02-13T03:33:32.033844Z",
     "start_time": "2018-02-13T03:33:32.016797Z"
    },
    "collapsed": false
   },
   "outputs": [
    {
     "name": "stdout",
     "output_type": "stream",
     "text": [
      "(8000, 518)\n",
      "(8000, 8)\n"
     ]
    }
   ],
   "source": [
    "print(features_all.values.shape)\n",
    "print(one_hot.shape)"
   ]
  },
  {
   "cell_type": "code",
   "execution_count": null,
   "metadata": {
    "ExecuteTime": {
     "end_time": "2018-02-13T03:30:29.369098Z",
     "start_time": "2018-02-13T03:30:29.363050Z"
    },
    "collapsed": false
   },
   "outputs": [],
   "source": []
  },
  {
   "cell_type": "code",
   "execution_count": 12,
   "metadata": {
    "ExecuteTime": {
     "end_time": "2018-02-13T03:34:02.981782Z",
     "start_time": "2018-02-13T03:33:32.042873Z"
    },
    "collapsed": false
   },
   "outputs": [
    {
     "name": "stdout",
     "output_type": "stream",
     "text": [
      "Epoch 1/20\n",
      " - 2s - loss: 14.1033 - acc: 0.1250\n",
      "Epoch 2/20\n",
      " - 1s - loss: 14.1033 - acc: 0.1250\n",
      "Epoch 3/20\n",
      " - 2s - loss: 14.1033 - acc: 0.1250\n",
      "Epoch 4/20\n",
      " - 2s - loss: 14.1033 - acc: 0.1250\n",
      "Epoch 5/20\n",
      " - 2s - loss: 14.1033 - acc: 0.1250\n",
      "Epoch 6/20\n",
      " - 2s - loss: 14.1033 - acc: 0.1250\n",
      "Epoch 7/20\n",
      " - 2s - loss: 14.1033 - acc: 0.1250\n",
      "Epoch 8/20\n",
      " - 1s - loss: 14.1033 - acc: 0.1250\n",
      "Epoch 9/20\n",
      " - 1s - loss: 14.1033 - acc: 0.1250\n",
      "Epoch 10/20\n",
      " - 1s - loss: 14.1033 - acc: 0.1250\n",
      "Epoch 11/20\n",
      " - 1s - loss: 14.1033 - acc: 0.1250\n",
      "Epoch 12/20\n",
      " - 2s - loss: 14.1033 - acc: 0.1250\n",
      "Epoch 13/20\n",
      " - 1s - loss: 14.1033 - acc: 0.1250\n",
      "Epoch 14/20\n",
      " - 1s - loss: 14.1033 - acc: 0.1250\n",
      "Epoch 15/20\n",
      " - 1s - loss: 14.1033 - acc: 0.1250\n",
      "Epoch 16/20\n",
      " - 1s - loss: 14.1033 - acc: 0.1250\n",
      "Epoch 17/20\n",
      " - 2s - loss: 14.1033 - acc: 0.1250\n",
      "Epoch 18/20\n",
      " - 1s - loss: 14.1033 - acc: 0.1250\n",
      "Epoch 19/20\n",
      " - 2s - loss: 14.1033 - acc: 0.1250\n",
      "Epoch 20/20\n",
      " - 1s - loss: 14.1033 - acc: 0.1250\n"
     ]
    }
   ],
   "source": [
    "params = {\n",
    "    \n",
    "}\n",
    "keras.backend.clear_session()\n",
    "model = only_feature_nn(one_hot.shape[1])\n",
    "\n",
    "history = model.fit(x = features_all.values, y = one_hot , batch_size=64, epochs=20, **params, verbose = 2)"
   ]
  },
  {
   "cell_type": "code",
   "execution_count": null,
   "metadata": {
    "ExecuteTime": {
     "end_time": "2018-02-13T03:34:03.580359Z",
     "start_time": "2018-02-13T03:34:02.982785Z"
    },
    "collapsed": false
   },
   "outputs": [],
   "source": []
  },
  {
   "cell_type": "code",
   "execution_count": null,
   "metadata": {
    "ExecuteTime": {
     "end_time": "2018-02-10T18:46:10.391592Z",
     "start_time": "2018-02-10T18:46:10.384573Z"
    },
    "collapsed": false
   },
   "outputs": [],
   "source": []
  },
  {
   "cell_type": "markdown",
   "metadata": {},
   "source": [
    "### Deep Learning Model Using Audio"
   ]
  },
  {
   "cell_type": "code",
   "execution_count": null,
   "metadata": {
    "ExecuteTime": {
     "end_time": "2018-02-10T16:34:37.483389Z",
     "start_time": "2018-02-10T16:34:37.455317Z"
    },
    "collapsed": true
   },
   "outputs": [],
   "source": [
    "labels_onehot = MultiLabelBinarizer().fit_transform(tracks['track', 'genre_top'])\n",
    "labels_onehot = pd.DataFrame(labels_onehot, index=tracks.index)"
   ]
  },
  {
   "cell_type": "code",
   "execution_count": null,
   "metadata": {
    "ExecuteTime": {
     "end_time": "2018-02-10T16:36:18.704850Z",
     "start_time": "2018-02-10T16:36:18.138632Z"
    },
    "code_folding": [],
    "collapsed": false
   },
   "outputs": [],
   "source": [
    "# Sanitation Test, Just making sure it works\n",
    "utils.FfmpegLoader().load(utils.get_audio_path(AUDIO_DIR, 2))\n",
    "SampleLoader = utils.build_sample_loader(AUDIO_DIR, labels_onehot, utils.FfmpegLoader())\n",
    "SampleLoader(train, batch_size=2).__next__()[0].shape"
   ]
  },
  {
   "cell_type": "code",
   "execution_count": null,
   "metadata": {
    "ExecuteTime": {
     "end_time": "2018-02-10T18:39:30.798238Z",
     "start_time": "2018-02-10T18:39:30.792190Z"
    },
    "collapsed": false
   },
   "outputs": [],
   "source": [
    "params = {\n",
    "    \n",
    "}"
   ]
  },
  {
   "cell_type": "code",
   "execution_count": null,
   "metadata": {
    "ExecuteTime": {
     "end_time": "2018-02-10T16:44:01.769571Z",
     "start_time": "2018-02-10T16:44:01.761548Z"
    },
    "collapsed": true
   },
   "outputs": [],
   "source": [
    "def basic_fully_connected(loader, labels_onehot):\n",
    "    model = keras.models.Sequential()\n",
    "    model.add(Dense(units=1000, input_shape=loader.shape))\n",
    "    model.add(Activation(\"relu\"))\n",
    "    model.add(Dense(units=100))\n",
    "    model.add(Activation(\"relu\"))\n",
    "    model.add(Dense(units=labels_onehot.shape[1]))\n",
    "    model.add(Activation(\"softmax\"))\n",
    "    \n",
    "    optimizer = keras.optimizers.SGD(lr=0.1, momentum=0.9, nesterov=True)\n",
    "    model.compile(optimizer, loss='categorical_crossentropy', metrics=['accuracy'])\n",
    "    \n",
    "    return model\n"
   ]
  },
  {
   "cell_type": "code",
   "execution_count": null,
   "metadata": {
    "ExecuteTime": {
     "end_time": "2018-02-10T17:21:48.321980Z",
     "start_time": "2018-02-10T17:21:48.314961Z"
    },
    "collapsed": false
   },
   "outputs": [],
   "source": [
    "loader = utils.FfmpegLoader(sampling_rate=2000)\n",
    "SampleLoader = utils.build_sample_loader(AUDIO_DIR, labels_onehot, loader)\n",
    "print('Dimensionality: {}'.format(loader.shape))"
   ]
  },
  {
   "cell_type": "code",
   "execution_count": null,
   "metadata": {
    "ExecuteTime": {
     "end_time": "2018-02-10T17:50:02.149423Z",
     "start_time": "2018-02-10T17:48:43.886742Z"
    },
    "collapsed": false
   },
   "outputs": [],
   "source": [
    "keras.backend.clear_session()\n",
    "\n",
    "model = basic_fully_connected(loader, labels_onehot)\n",
    "model.fit_generator(SampleLoader(train, batch_size=64), train.size/100, epochs=2, **params)"
   ]
  },
  {
   "cell_type": "code",
   "execution_count": null,
   "metadata": {
    "collapsed": true
   },
   "outputs": [],
   "source": [
    "loss = model.evaluate_generator(SampleLoader(val, batch_size=64), val.size, **params)\n",
    "loss = model.evaluate_generator(SampleLoader(test, batch_size=64), test.size, **params)"
   ]
  },
  {
   "cell_type": "code",
   "execution_count": null,
   "metadata": {
    "ExecuteTime": {
     "end_time": "2018-02-10T17:18:58.588946Z",
     "start_time": "2018-02-10T17:18:58.578418Z"
    },
    "collapsed": false
   },
   "outputs": [],
   "source": []
  },
  {
   "cell_type": "code",
   "execution_count": null,
   "metadata": {
    "ExecuteTime": {
     "end_time": "2018-02-10T17:15:04.379889Z",
     "start_time": "2018-02-10T17:15:04.369865Z"
    },
    "collapsed": false
   },
   "outputs": [],
   "source": []
  },
  {
   "cell_type": "code",
   "execution_count": null,
   "metadata": {
    "ExecuteTime": {
     "end_time": "2018-02-10T17:20:56.034174Z",
     "start_time": "2018-02-10T17:20:55.919870Z"
    },
    "collapsed": false
   },
   "outputs": [],
   "source": []
  },
  {
   "cell_type": "code",
   "execution_count": null,
   "metadata": {
    "collapsed": true
   },
   "outputs": [],
   "source": []
  }
 ],
 "metadata": {
  "kernelspec": {
   "display_name": "Python 3",
   "language": "python",
   "name": "python3"
  },
  "language_info": {
   "codemirror_mode": {
    "name": "ipython",
    "version": 3
   },
   "file_extension": ".py",
   "mimetype": "text/x-python",
   "name": "python",
   "nbconvert_exporter": "python",
   "pygments_lexer": "ipython3",
   "version": "3.6.0"
  }
 },
 "nbformat": 4,
 "nbformat_minor": 2
}
